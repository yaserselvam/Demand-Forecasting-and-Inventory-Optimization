{
 "cells": [
  {
   "cell_type": "code",
   "execution_count": 3,
   "id": "ef69323f-e38d-4068-9dfe-a5ca824d0abb",
   "metadata": {},
   "outputs": [],
   "source": [
    "%store -r time_series\n",
    "%store -r future_steps\n",
    "%store -r predictions\n",
    "import pandas as pd\n",
    "import numpy as np"
   ]
  },
  {
   "cell_type": "code",
   "execution_count": 4,
   "id": "4625430c-e674-4a33-8579-80e9c97a8093",
   "metadata": {},
   "outputs": [],
   "source": [
    "future_dates = pd.date_range(start=time_series.index[-1] + pd.DateOffset(days=1), periods=future_steps, freq='D')\n",
    "\n",
    "forecasted_demand = pd.Series(predictions, index=future_dates)"
   ]
  },
  {
   "cell_type": "code",
   "execution_count": 5,
   "id": "27accf20-dabe-4d98-9aa2-ba171b64dcb3",
   "metadata": {},
   "outputs": [],
   "source": [
    "initial_inventory = 5500\n",
    "\n",
    "lead_time = 1 \n",
    "\n",
    "service_level = 0.95 \n",
    "\n",
    "z = np.abs(np.percentile(forecasted_demand, 100 * (1 - service_level)))\n",
    "order_quantity = np.ceil(forecasted_demand.mean() + z).astype(int)\n",
    "\n",
    "reorder_point = forecasted_demand.mean() * lead_time + z\n",
    "\n",
    "safety_stock = reorder_point - forecasted_demand.mean() * lead_time"
   ]
  },
  {
   "cell_type": "code",
   "execution_count": 6,
   "id": "6bd87821-814f-4c4b-8ad5-b878b8698ed1",
   "metadata": {},
   "outputs": [],
   "source": [
    "holding_cost = 0.1  \n",
    "stockout_cost = 10  \n",
    "total_holding_cost = holding_cost * (initial_inventory + 0.5 * order_quantity)\n",
    "total_stockout_cost = stockout_cost * np.maximum(0, forecasted_demand.mean() * lead_time - initial_inventory)\n",
    "\n",
    "total_cost = total_holding_cost + total_stockout_cost"
   ]
  },
  {
   "cell_type": "code",
   "execution_count": 7,
   "id": "e0512dac-9cc2-42bc-93f7-d06adaf6fe1c",
   "metadata": {},
   "outputs": [
    {
     "name": "stdout",
     "output_type": "stream",
     "text": [
      "Optimal Order Quantity: 236\n",
      "Reorder Point: 235.25\n",
      "Safety Stock: 114.45\n",
      "Total Cost: 561.8000000000001\n"
     ]
    }
   ],
   "source": [
    "print(\"Optimal Order Quantity:\", order_quantity)\n",
    "print(\"Reorder Point:\", reorder_point)\n",
    "print(\"Safety Stock:\", safety_stock)\n",
    "print(\"Total Cost:\", total_cost)"
   ]
  }
 ],
 "metadata": {
  "kernelspec": {
   "display_name": "Python 3 (ipykernel)",
   "language": "python",
   "name": "python3"
  },
  "language_info": {
   "codemirror_mode": {
    "name": "ipython",
    "version": 3
   },
   "file_extension": ".py",
   "mimetype": "text/x-python",
   "name": "python",
   "nbconvert_exporter": "python",
   "pygments_lexer": "ipython3",
   "version": "3.11.1"
  }
 },
 "nbformat": 4,
 "nbformat_minor": 5
}
